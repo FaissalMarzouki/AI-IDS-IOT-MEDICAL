{
 "cells": [
  {
   "cell_type": "code",
   "execution_count": 1,
   "id": "d14b1fbe-41dd-4bbd-a4e4-5d52df1bec45",
   "metadata": {},
   "outputs": [],
   "source": [
    "import numpy as np\n",
    "import pandas as pd\n",
    "df_2 = pd.read_csv(\"0.1percent_2classes.csv\")\n",
    "df_8 = pd.read_csv(\"0.1percent_8classes.csv\")\n",
    "df_34 = pd.read_csv(\"0.1percent_34classes.csv\")"
   ]
  },
  {
   "cell_type": "code",
   "execution_count": null,
   "id": "9ad2ba48-973b-4f85-8dab-947c64ec8bd6",
   "metadata": {},
   "outputs": [],
   "source": [
    "filter_vars = [\"duration\", \"srate\", \"drate\", \"syn_flag_number\", \"psh_flag_number\", \"ack_flag_number\", \"ack_count\", \"syn_count\", \"rst_count\", \"header_length\", \"https\", \"ssh\", \"flow_duration\", \"avg\", \"max\", \"tot_sum\", \"min\", \"iat\", \"magnitude\", \"radius\", \"variance\"]\n",
    "label_vars = [\"label\", \"benign\"]\n",
    "\n",
    "to_filter = filter_vars + label_vars\n",
    "\n",
    "df_2 = df_2.filter(items=to_filter)\n",
    "df_8 = df_8.filter(items=to_filter)\n",
    "df_34 = df_34.filter(items=to_filter)\n",
    "\n",
    "# Write to csv\n",
    "df_2.to_csv(\"0.1percent_2classes_processed.csv\", index=False)\n",
    "df_8.to_csv(\"0.1percent_8classes_processed.csv\", index=False)\n",
    "df_34.to_csv(\"0.1percent_34classes_processed.csv\", index=False)"
   ]
  }
 ],
 "metadata": {
  "kernelspec": {
   "display_name": "Python 3 (ipykernel)",
   "language": "python",
   "name": "python3"
  },
  "language_info": {
   "codemirror_mode": {
    "name": "ipython",
    "version": 3
   },
   "file_extension": ".py",
   "mimetype": "text/x-python",
   "name": "python",
   "nbconvert_exporter": "python",
   "pygments_lexer": "ipython3",
   "version": "3.12.2"
  }
 },
 "nbformat": 4,
 "nbformat_minor": 5
}
