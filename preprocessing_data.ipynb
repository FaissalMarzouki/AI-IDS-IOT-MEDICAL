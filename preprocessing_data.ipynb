{
 "cells": [
  {
   "cell_type": "code",
   "execution_count": 1,
   "id": "d14b1fbe-41dd-4bbd-a4e4-5d52df1bec45",
   "metadata": {},
   "outputs": [],
   "source": [
    "import numpy as np\n",
    "import pandas as pd\n",
    "df_2 = pd.read_csv(\"0.05percent_2classes.csv\")\n",
    "df_8 = pd.read_csv(\"0.05percent_8classes.csv\")\n",
    "df_34 = pd.read_csv(\"0.05percent_34classes.csv\")"
   ]
  },
  {
   "cell_type": "code",
   "execution_count": null,
   "id": "9ad2ba48-973b-4f85-8dab-947c64ec8bd6",
   "metadata": {},
   "outputs": [],
   "source": [
    "filter_vars = [\"duration\", \"srate\", \"drate\", \"syn_flag_number\", \"psh_flag_number\", \"ack_flag_number\", \n",
    "               \"ack_count\", \"syn_count\", \"rst_count\", \"header_length\", \"https\", \"ssh\", \"flow_duration\",\n",
    "               \"avg\", \"max\", \"tot_sum\", \"min\", \"iat\", \"magnitude\", \"radius\", \"variance\"]\n",
    "label_vars = [\"label\", \"benign\"]\n",
    "\n",
    "to_filter = filter_vars + label_vars\n",
    "\n",
    "df_2 = df_2.filter(items=to_filter)\n",
    "df_8 = df_8.filter(items=to_filter)\n",
    "df_34 = df_34.filter(items=to_filter)\n",
    "\n",
    "# Write to csv\n",
    "df_2.to_csv(\"0.05percent_2classes_processed.csv\", index=False)\n",
    "df_8.to_csv(\"0.05percent_8classes_processed.csv\", index=False)\n",
    "df_34.to_csv(\"0.05percent_34classes_processed.csv\", index=False)"
   ]
  },
  {
   "cell_type": "code",
   "execution_count": 1,
   "id": "b76cc47f-1ef1-46f9-ba8b-f5c565d19f19",
   "metadata": {},
   "outputs": [
    {
     "name": "stdout",
     "output_type": "stream",
     "text": [
      "Dossier 'classes_separees' créé avec succès.\n",
      "Nombre de classes identifiées: 34\n",
      "Fichier 'classe_DDoS-ICMP_Flood.csv' créé avec 360017 lignes.\n",
      "Fichier 'classe_DoS-UDP_Flood.csv' créé avec 165933 lignes.\n",
      "Fichier 'classe_DDoS-UDP_Flood.csv' créé avec 270611 lignes.\n",
      "Fichier 'classe_DDoS-SYN_Flood.csv' créé avec 202953 lignes.\n",
      "Fichier 'classe_DDoS-SynonymousIP_Flood.csv' créé avec 179910 lignes.\n",
      "Fichier 'classe_DDoS-TCP_Flood.csv' créé avec 224881 lignes.\n",
      "Fichier 'classe_DDoS-RSTFINFlood.csv' créé avec 202264 lignes.\n",
      "Fichier 'classe_DoS-TCP_Flood.csv' créé avec 133577 lignes.\n",
      "Fichier 'classe_DDoS-PSHACK_Flood.csv' créé avec 204732 lignes.\n",
      "Fichier 'classe_Mirai-greip_flood.csv' créé avec 37580 lignes.\n",
      "Fichier 'classe_DDoS-ICMP_Fragmentation.csv' créé avec 22624 lignes.\n",
      "Fichier 'classe_DoS-SYN_Flood.csv' créé avec 101447 lignes.\n",
      "Fichier 'classe_BenignTraffic.csv' créé avec 54908 lignes.\n",
      "Fichier 'classe_Mirai-greeth_flood.csv' créé avec 49590 lignes.\n",
      "Fichier 'classe_DNS_Spoofing.csv' créé avec 8946 lignes.\n",
      "Fichier 'classe_Recon-PortScan.csv' créé avec 4116 lignes.\n",
      "Fichier 'classe_Mirai-udpplain.csv' créé avec 44532 lignes.\n",
      "Fichier 'classe_DDoS-UDP_Fragmentation.csv' créé avec 14344 lignes.\n",
      "Fichier 'classe_DDoS-ACK_Fragmentation.csv' créé avec 14254 lignes.\n",
      "Fichier 'classe_DoS-HTTP_Flood.csv' créé avec 3594 lignes.\n",
      "Fichier 'classe_MITM-ArpSpoofing.csv' créé avec 15374 lignes.\n",
      "Fichier 'classe_Recon-HostDiscovery.csv' créé avec 6721 lignes.\n",
      "Fichier 'classe_Recon-OSScan.csv' créé avec 4915 lignes.\n",
      "Fichier 'classe_DDoS-HTTP_Flood.csv' créé avec 1441 lignes.\n",
      "Fichier 'classe_DDoS-SlowLoris.csv' créé avec 1170 lignes.\n",
      "Fichier 'classe_VulnerabilityScan.csv' créé avec 1869 lignes.\n",
      "Fichier 'classe_XSS.csv' créé avec 199 lignes.\n",
      "Fichier 'classe_SqlInjection.csv' créé avec 255 lignes.\n",
      "Fichier 'classe_BrowserHijacking.csv' créé avec 300 lignes.\n",
      "Fichier 'classe_Backdoor_Malware.csv' créé avec 175 lignes.\n",
      "Fichier 'classe_DictionaryBruteForce.csv' créé avec 658 lignes.\n",
      "Fichier 'classe_CommandInjection.csv' créé avec 271 lignes.\n",
      "Fichier 'classe_Recon-PingSweep.csv' créé avec 113 lignes.\n",
      "Fichier 'classe_Uploading_Attack.csv' créé avec 26 lignes.\n",
      "\n",
      "Traitement terminé. 34 fichiers ont été créés dans le dossier 'classes_separees'.\n"
     ]
    }
   ],
   "source": [
    "import pandas as pd\n",
    "import os\n",
    "import numpy as np\n",
    "\n",
    "# Définir le chemin pour le nouveau dossier\n",
    "output_folder = \"classes_separees\"\n",
    "\n",
    "# Créer le dossier s'il n'existe pas\n",
    "if not os.path.exists(output_folder):\n",
    "    os.makedirs(output_folder)\n",
    "    print(f\"Dossier '{output_folder}' créé avec succès.\")\n",
    "else:\n",
    "    print(f\"Le dossier '{output_folder}' existe déjà.\")\n",
    "\n",
    "# Charger le fichier CSV des 34 classes\n",
    "df_34 = pd.read_csv(\"0.05percent_34classes_processed.csv\")\n",
    "\n",
    "# Obtenir toutes les classes uniques\n",
    "classes_uniques = df_34['label'].unique()\n",
    "print(f\"Nombre de classes identifiées: {len(classes_uniques)}\")\n",
    "\n",
    "# Diviser le dataset par classe\n",
    "for classe in classes_uniques:\n",
    "    # Filtrer le dataframe pour cette classe\n",
    "    df_classe = df_34[df_34['label'] == classe].copy()\n",
    "    \n",
    "    # Supprimer la colonne 'label'\n",
    "    df_classe = df_classe.drop(columns=['label'])\n",
    "    \n",
    "    # Créer un nom de fichier basé sur la classe (nettoyer pour être sûr qu'il est valide)\n",
    "    nom_fichier = f\"classe_{classe}.csv\".replace(\"/\", \"_\").replace(\"\\\\\", \"_\")\n",
    "    chemin_fichier = os.path.join(output_folder, nom_fichier)\n",
    "    \n",
    "    # Sauvegarder en CSV\n",
    "    df_classe.to_csv(chemin_fichier, index=False)\n",
    "    print(f\"Fichier '{nom_fichier}' créé avec {len(df_classe)} lignes.\")\n",
    "\n",
    "print(f\"\\nTraitement terminé. {len(classes_uniques)} fichiers ont été créés dans le dossier '{output_folder}'.\")"
   ]
  }
 ],
 "metadata": {
  "kernelspec": {
   "display_name": "Python 3 (ipykernel)",
   "language": "python",
   "name": "python3"
  },
  "language_info": {
   "codemirror_mode": {
    "name": "ipython",
    "version": 3
   },
   "file_extension": ".py",
   "mimetype": "text/x-python",
   "name": "python",
   "nbconvert_exporter": "python",
   "pygments_lexer": "ipython3",
   "version": "3.12.2"
  }
 },
 "nbformat": 4,
 "nbformat_minor": 5
}
